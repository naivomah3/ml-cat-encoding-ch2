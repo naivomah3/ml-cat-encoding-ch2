{
 "cells": [
  {
   "cell_type": "markdown",
   "metadata": {},
   "source": [
    "## Image pre|post-processing"
   ]
  },
  {
   "cell_type": "code",
   "execution_count": 23,
   "metadata": {},
   "outputs": [],
   "source": [
    "import os\n",
    "import random\n",
    "import string\n",
    "import numpy as np\n",
    "import matplotlib.pyplot as plt\n",
    "import cv2\n",
    "from PIL import Image\n",
    "\n",
    "%matplotlib inline\n",
    "#plt.style.use('fivethirtyeight')\n",
    "#plt.rcParams['figure.facecolor'] = 'w'\n",
    "plt.rcParams['figure.figsize'] = [12, 8]\n",
    "plt.rcParams['font.size'] = 14"
   ]
  },
  {
   "cell_type": "code",
   "execution_count": 24,
   "metadata": {},
   "outputs": [],
   "source": [
    "# Random image name generator\n",
    "def get_rand_name(size=30, chars=string.ascii_letters + string.digits):\n",
    "    return ''.join(random.choice(chars) for x in range(size))"
   ]
  },
  {
   "cell_type": "code",
   "execution_count": 32,
   "metadata": {},
   "outputs": [],
   "source": [
    "# Load dataset\n",
    "#PATH = os.getcwd()\n",
    "TRAIN = \"../input/vessels-data/training/\"\n",
    "TRAIN_FINAL = \"../input/vessels-data/training_final/\"\n",
    "\n"
   ]
  },
  {
   "cell_type": "code",
   "execution_count": 30,
   "metadata": {},
   "outputs": [
    {
     "name": "stdout",
     "output_type": "stream",
     "text": [
      "[  0 255]\n",
      "(584, 565)\n"
     ]
    },
    {
     "data": {
      "image/png": "[encoded data removed]",
      "text/plain": [
       "<Figure size 864x576 with 1 Axes>"
      ]
     },
     "metadata": {
      "needs_background": "light"
     },
     "output_type": "display_data"
    }
   ],
   "source": [
    "# original dimension: 584x565\n",
    "# modified dimension: 576x560 \n",
    "def load_image(path):\n",
    "    # Load training\n",
    "    fnames = os.listdir(path)\n",
    "    for f in fnames:\n",
    "        #image = cv2.imread(os.path.join(path, f\"images/{f}\"))\n",
    "        image = plt.imread(os.path.join(path, f))\n",
    "        #mask_in_gray = cv2.cvtColor(mask_in, cv2.COLOR_BGR2GRAY)\n",
    "        print(np.unique(image))\n",
    "        print(image.shape)\n",
    "        plt.imshow(image)\n",
    "        break\n",
    "        \n",
    "        \n",
    "load_image(FRAME_TRAIN_PATH)"
   ]
  },
  {
   "cell_type": "code",
   "execution_count": null,
   "metadata": {},
   "outputs": [],
   "source": [
    "def apply_rotate(path, angle):\n",
    "    center = tuple(np.array(image.shape[1::-1]) / 2)\n",
    "    rotation = cv2.getRotationMatrix2D(image_center, angle, 1.0)\n",
    "    result = cv2.warpAffine(image, rotation, image.shape[1::-1], flags=cv2.INTER_LINEAR)\n",
    "    return result\n",
    "\n",
    "def apply_noise(image):\n",
    "    height, width, channel = image.shape\n",
    "    n = \n",
    "    "
   ]
  },
  {
   "cell_type": "markdown",
   "metadata": {},
   "source": [
    "# Offline image augmentation"
   ]
  },
  {
   "cell_type": "code",
   "execution_count": 31,
   "metadata": {},
   "outputs": [],
   "source": [
    "# Augmentation using albumentation \n",
    "# https://albumentations.readthedocs.io/en/latest/examples.html\n",
    "import albumentations as alb\n",
    "import random \n",
    "import numpy as np"
   ]
  },
  {
   "cell_type": "code",
   "execution_count": null,
   "metadata": {},
   "outputs": [],
   "source": [
    "img_in = os.path.join(DEST_PATH, 'frames_sliced/')\n",
    "mask_in = os.path.join(DEST_PATH, 'masks_sliced/')\n",
    "img_out = os.path.join(DEST_PATH, 'frames_sliced_aug/')\n",
    "mask_out = os.path.join(DEST_PATH, 'masks_sliced_aug/')"
   ]
  },
  {
   "cell_type": "code",
   "execution_count": null,
   "metadata": {},
   "outputs": [],
   "source": [
    "def generate_aug_img(p=0.7, img_in='', mask_in='', img_out='', mask_out=''):\n",
    "    # define augmentation pipeline\n",
    "    pipeline = alb.Compose([\n",
    "        alb.VerticalFlip(),\n",
    "        alb.HorizontalFlip(),\n",
    "        alb.ShiftScaleRotate(shift_limit=0.0625, scale_limit=0.2, rotate_limit=45, p=1),\n",
    "        alb.ElasticTransform(border_mode=cv2.BORDER_REFLECT_101, alpha_affine=40, p=1),\n",
    "        alb.OneOf([\n",
    "            alb.GaussianBlur(p=0.7, blur_limit=3),\n",
    "            alb.RandomRain(p=0.7, brightness_coefficient=0.6, drop_width=1, blur_value=5),\n",
    "            alb.RandomSnow(p=0.7, brightness_coeff=1, snow_point_lower=0.3, snow_point_upper=0.5),\n",
    "            alb.RandomShadow(p=0.6, num_shadows_lower=1, num_shadows_upper=1, \n",
    "                            shadow_dimension=5, shadow_roi=(0, 0.5, 1, 1)),\n",
    "            alb.RandomFog(p=0.7, fog_coef_lower=0.7, fog_coef_upper=0.8, alpha_coef=0.1)\n",
    "        ], p=0.8),\n",
    "        alb.OneOf([\n",
    "            alb.CLAHE(clip_limit=2),\n",
    "            alb.IAASharpen(),\n",
    "            alb.IAAEmboss(),\n",
    "            alb.RandomBrightnessContrast(),\n",
    "        ], p=0.6),\n",
    "    ], p=p)\n",
    "    \n",
    "    # Apply pipeline for each image \n",
    "    for _ in range(624):\n",
    "        # Shuffle out image list\n",
    "        img_list = os.listdir(img_in)\n",
    "        random.shuffle(img_list)\n",
    "        index = random.randint(0, len(img_list)-1)\n",
    "        # Pick one image \n",
    "        img_id = img_list[index]\n",
    "        # Apply augmentation to the coosen image\n",
    "        _img_in = cv2.imread(img_in + img_id)\n",
    "        _mask_in = cv2.imread(mask_in + img_id)\n",
    "        # Fit pipeline \n",
    "        augmented = pipeline(image = _img_in, mask = _mask_in)\n",
    "        # Get outcomes \n",
    "        _img_out, _mask_out = augmented[\"image\"], augmented[\"mask\"]\n",
    "        # Gen. out filename \n",
    "        out_fname = get_rand_name()\n",
    "        # Write file to out dir \n",
    "        cv2.imwrite(img_out + out_fname + '.png', _img_out)\n",
    "        cv2.imwrite(mask_out + out_fname + '.png', _mask_out)\n",
    "        \n",
    "#generate_aug_img(p=0.8, img_in=img_in, mask_in=mask_in, img_out=img_out, mask_out=mask_out)"
   ]
  },
  {
   "cell_type": "code",
   "execution_count": null,
   "metadata": {},
   "outputs": [],
   "source": []
  },
  {
   "cell_type": "code",
   "execution_count": null,
   "metadata": {},
   "outputs": [],
   "source": []
  },
  {
   "cell_type": "code",
   "execution_count": null,
   "metadata": {},
   "outputs": [],
   "source": []
  },
  {
   "cell_type": "code",
   "execution_count": null,
   "metadata": {},
   "outputs": [],
   "source": [
    "def generate_aug_img_tmp(p=0.9, img_in='', mask_in='', img_out='', mask_out=''):\n",
    "    # define augmentation pipeline\n",
    "    pipeline = alb.Compose([\n",
    "       alb.GaussianBlur(p=0.9, blur_limit=30),\n",
    "    ], p=p)\n",
    "    \n",
    "    # Apply pipeline for each image \n",
    "    for _ in range(20):\n",
    "        # Shuffle out image list\n",
    "        img_list = os.listdir(img_in)\n",
    "        random.shuffle(img_list)\n",
    "        index = random.randint(0, len(img_list)-1)\n",
    "        # Pick random one image \n",
    "        img_id = img_list[index]\n",
    "        # Apply augmentation to the coosen image\n",
    "        _img_in = cv2.imread(img_in + img_id)\n",
    "        _mask_in = cv2.imread(mask_in + img_id)\n",
    "        #_img_in = cv2.imread(img_in)\n",
    "        #_mask_in = cv2.imread(mask_in)\n",
    "        \n",
    "        \n",
    "        # Fit pipeline \n",
    "        augmented = pipeline(image = _img_in, mask = _mask_in)\n",
    "        # Get outcomes \n",
    "        _img_out, _mask_out = augmented[\"image\"], augmented[\"mask\"]\n",
    "        # Gen. out filename \n",
    "        out_fname = get_rand_name()\n",
    "        # Write file to out dir \n",
    "        cv2.imwrite(os.path.join(img_out, out_fname + '.png'), _img_out)\n",
    "        cv2.imwrite(os.path.join(mask_out, out_fname + '.png'), _mask_out)"
   ]
  },
  {
   "cell_type": "code",
   "execution_count": null,
   "metadata": {},
   "outputs": [],
   "source": [
    "def generate_img(p=1, img_in='', img_out=''):\n",
    "    # define augmentation pipeline\n",
    "    pipeline = alb.Compose([\n",
    "       #alb.GaussianBlur(p=0.9, blur_limit=30),\n",
    "        alb.CLAHE(clip_limit=2.5),\n",
    "    ], p=p)\n",
    "    \n",
    "    _img_in = cv2.imread(img_in)\n",
    "    augmented = pipeline(image = _img_in)\n",
    "    _img_out = augmented[\"image\"]\n",
    "    out_fname = get_rand_name()\n",
    "    # Write file to out dir \n",
    "    cv2.imwrite(os.path.join(img_out, out_fname + '.png'), _img_out)\n",
    "    \n",
    "generate_img(img_in=PATH, img_out=DEST_PATH)"
   ]
  },
  {
   "cell_type": "code",
   "execution_count": null,
   "metadata": {},
   "outputs": [],
   "source": [
    "\n",
    "img_in = '/media/zero/STUDY/GIT REPO/ml-deep-learning/13-ann-road-classification/dataset-loader/experiments/frame321/frame/'\n",
    "mask_in = '/media/zero/STUDY/GIT REPO/ml-deep-learning/13-ann-road-classification/dataset-loader/experiments/frame321/mask/'\n",
    "img_out = '/media/zero/STUDY/GIT REPO/ml-deep-learning/13-ann-road-classification/dataset-loader/experiments/frame321/aug/frame'\n",
    "mask_out = '/media/zero/STUDY/GIT REPO/ml-deep-learning/13-ann-road-classification/dataset-loader/experiments/frame321/aug/mask'"
   ]
  },
  {
   "cell_type": "code",
   "execution_count": null,
   "metadata": {},
   "outputs": [],
   "source": [
    "generate_aug_img_tmp(img_in = img_in, mask_in = mask_in, img_out = img_out, mask_out = mask_out)"
   ]
  },
  {
   "cell_type": "code",
   "execution_count": null,
   "metadata": {},
   "outputs": [],
   "source": []
  }
 ],
 "metadata": {
  "kernelspec": {
   "display_name": "Python 3",
   "language": "python",
   "name": "python3"
  },
  "language_info": {
   "codemirror_mode": {
    "name": "ipython",
    "version": 3
   },
   "file_extension": ".py",
   "mimetype": "text/x-python",
   "name": "python",
   "nbconvert_exporter": "python",
   "pygments_lexer": "ipython3",
   "version": "3.6.7"
  }
 },
 "nbformat": 4,
 "nbformat_minor": 4
}
